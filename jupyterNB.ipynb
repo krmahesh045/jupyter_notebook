{
 "cells": [
  {
   "cell_type": "markdown",
   "id": "44791c15-0c4f-469a-aede-00c87eab1f33",
   "metadata": {},
   "source": [
    "# H1:Data Science Tools and Ecosystem\n"
   ]
  },
  {
   "cell_type": "markdown",
   "id": "4ece16a0-ddf8-4d22-8607-af56f2c03f08",
   "metadata": {},
   "source": [
    "In this notebook,Data Science Tools and Ecosystem are summarized\n"
   ]
  },
  {
   "cell_type": "markdown",
   "id": "6c91a973-0b86-404a-baf2-c28e2d06a609",
   "metadata": {},
   "source": [
    "Some of the popular languages that Data Scientists use are:"
   ]
  },
  {
   "cell_type": "markdown",
   "id": "306587e1-c5ca-46c4-ab8b-f157bf80f194",
   "metadata": {},
   "source": [
    "1. Python\n",
    "2. R\n",
    "3. SQL\n",
    "4. Scala\n",
    "5. Java\n",
    "6. Julia\n"
   ]
  },
  {
   "cell_type": "markdown",
   "id": "b90ddeb9-3bdc-40d0-9335-5e31daacd524",
   "metadata": {},
   "source": [
    "Some of the commonly used libraries used by Data Scientists Include:"
   ]
  },
  {
   "cell_type": "markdown",
   "id": "02210155-6df5-4ca8-9907-f4266fe81667",
   "metadata": {},
   "source": [
    "1. Pandas\n",
    "2. numpy\n",
    "3. matplotlib\n",
    "4. Seaborn\n",
    "5. Tenserflow\n",
    "6. Pytorch"
   ]
  },
  {
   "cell_type": "markdown",
   "id": "67f95083-a33e-4093-ae26-19fd0eab2f6d",
   "metadata": {},
   "source": [
    "Below are a few example of evaluating arithmetic expressions in Python\n",
    "\n",
    "\n"
   ]
  },
  {
   "cell_type": "markdown",
   "id": "4edc394f-582b-412c-a84a-c04e1bd9aa78",
   "metadata": {},
   "source": [
    "| Data Science Tools | \n",
    "| -------------| \n",
    "| IBM'S WATSON STUDIO | \n",
    "| JUPYTER LAB /ANACONDA | \n",
    "| RSTUDIO | "
   ]
  },
  {
   "cell_type": "markdown",
   "id": "3d7406b2-3e15-4b29-8f7f-b360b449cba4",
   "metadata": {},
   "source": [
    "This is a simple arithmetic expression to multiply then add integers"
   ]
  },
  {
   "cell_type": "code",
   "execution_count": null,
   "id": "5f02665c-8c1a-492e-bf7b-f41f5b4cdce1",
   "metadata": {},
   "outputs": [],
   "source": []
  },
  {
   "cell_type": "code",
   "execution_count": 1,
   "id": "ae618b3b-642d-43fa-8bd8-79fe380d1fca",
   "metadata": {
    "tags": []
   },
   "outputs": [
    {
     "data": {
      "text/plain": [
       "17"
      ]
     },
     "execution_count": 1,
     "metadata": {},
     "output_type": "execute_result"
    }
   ],
   "source": [
    "(3*4)+5\n"
   ]
  },
  {
   "cell_type": "markdown",
   "id": "fa270188-2e77-4fd2-b5f7-6442e2aa5a90",
   "metadata": {},
   "source": [
    "this will convert 200 minutes to hours by dividing by 60"
   ]
  },
  {
   "cell_type": "code",
   "execution_count": 2,
   "id": "1055eb01-3455-4eb0-aca4-553b1073d788",
   "metadata": {
    "tags": []
   },
   "outputs": [
    {
     "data": {
      "text/plain": [
       "3.3333333333333335"
      ]
     },
     "execution_count": 2,
     "metadata": {},
     "output_type": "execute_result"
    }
   ],
   "source": [
    "200/60"
   ]
  },
  {
   "cell_type": "markdown",
   "id": "ffb8262f-ce41-408e-92a9-a86386db3881",
   "metadata": {},
   "source": [
    "In this notebook,Data Science Tools and Ecosystem are summarized\n",
    "**objectives**\n",
    "* languages for Data Science\n",
    "* libraries for Data Science\n",
    "* arithmetic operations for data Science\n",
    "* minutes to hours"
   ]
  },
  {
   "cell_type": "markdown",
   "id": "731da69c-342a-4c50-950b-3dc700d50af5",
   "metadata": {},
   "source": [
    "## H2:Author:Mahesh R Kakde"
   ]
  }
 ],
 "metadata": {
  "kernelspec": {
   "display_name": "Python",
   "language": "python",
   "name": "conda-env-python-py"
  },
  "language_info": {
   "codemirror_mode": {
    "name": "ipython",
    "version": 3
   },
   "file_extension": ".py",
   "mimetype": "text/x-python",
   "name": "python",
   "nbconvert_exporter": "python",
   "pygments_lexer": "ipython3",
   "version": "3.7.12"
  }
 },
 "nbformat": 4,
 "nbformat_minor": 5
}
